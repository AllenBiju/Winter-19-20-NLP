{
 "cells": [
  {
   "cell_type": "markdown",
   "metadata": {},
   "source": [
    "# Common Adjectives\n",
    "### Shows teh common adjectives used b/w three speakers"
   ]
  },
  {
   "cell_type": "code",
   "execution_count": 2,
   "metadata": {},
   "outputs": [],
   "source": [
    "import nltk\n",
    "from nltk.corpus import stopwords \n",
    "from nltk.tokenize import word_tokenize"
   ]
  },
  {
   "cell_type": "code",
   "execution_count": 3,
   "metadata": {},
   "outputs": [],
   "source": [
    "# sample text\n",
    "trump = '''America needs creation not destruction, cooperation not contempt, security not anarchy, healing not hatred, justice not chaos. This is our and we will succeed 100% we will succeed. Our country always wins. That is why I am taking immediate presidential action to stop the violence and restore security and safety in America. I am mobilizing all available, federal resources, civilian and military, to stop the rioting and looting to end the destruction and arson and to protect the rights of law abiding Americans, including your second amendment rights. Therefore, the following measures are going into effect immediately. First, we are ending the riots and lawlessness that has spread throughout our country. We will end it now. Today I have strongly recommended to every governor to deploy the national guard in sufficient numbers that we dominate the streets, mayors and governors must establish an overwhelming law enforcement presence until the violence has been quelled. If a city or state refuses to take the actions that are necessary to defend the life and property of their residents, then I will deploy the United States military and quickly solve the problem for them. I am also taking swift and decisive action to protect our great Capitol Washington DC. What happened in this city last night was a total disgrace. As we speak, I am dispatching thousands and thousands of heavily armed soldiers, military personnel, and law enforcement offices to stop the rioting, looting, vandalism assaults and the wanton destruction of property. We are putting everybody on warning our seven o’clock curfew will be strictly enforced. Those who threatened innocent life and property will be arrested, detained and prosecuted to the fullest extent of the law. I want the organizers of this terror to be on notice that you will face severe criminal penalties and lengthy sentences in jail.'''"
   ]
  },
  {
   "cell_type": "code",
   "execution_count": 4,
   "metadata": {},
   "outputs": [],
   "source": [
    "obama = '''I stand here today humbled by the task before us, grateful for the trust you've bestowed, mindful of the sacrifices borne by our ancestors. I thank President Bush for his service to our nation, as well as the generosity and cooperation he has shown throughout this transition.\n",
    "\n",
    "Forty-four Americans have now taken the presidential Oath. The words have been spoken during rising tides of prosperity and the still waters of peace. Yet, every so often the Oath is taken amidst gathering clouds and raging storms. At these moments, America has carried on not simply because of the skill or vision of those in high office, but because We the People have remained faithful to the ideals of our forebearers [sic], and true to our founding documents.\n",
    "\n",
    "So it has been. So it must be with this generation of Americans.\n",
    "\n",
    "That we are in the midst of crisis is now well understood. Our nation is at war, against a far-reaching network of violence and hatred. Our economy is badly weakened, a consequence of greed and irresponsibility on the part of some, but also our collective failure to make hard choices and prepare the nation for a new age. Homes have been lost; jobs shed; businesses shuttered. Our health care is too costly; our schools fail too many; and each day brings further evidence that the ways we use energy strengthen our adversaries and threaten our planet.'''"
   ]
  },
  {
   "cell_type": "code",
   "execution_count": 5,
   "metadata": {},
   "outputs": [],
   "source": [
    "modi = '''My dear fellow citizens,\n",
    "\n",
    "Greetings from the ramparts of the Red Fort on the auspicious occasion of Independence Day.\n",
    "\n",
    "Nation is celebrating the Independence Day with the festival of Janamashtmi today . I can see a number of Bal Kanahiyas here. We are fortunate to have in our cultural and historical heritage from a Sudarshan Chakradhari Mohan to Charkhadhari Mohan.\n",
    "\n",
    "From the ramparts of Red Fort, on behalf of our 125 crore countrymen, I bow and pay respects to all those men and women who have sacrificed their lives, who have undergone immense sufferings and made sacrifices for the independence, glory and pride of the country.\n",
    "\n",
    "Sometimes, natural calamities are a big challenge for us. A good monsoon contributes immensely to the prosperity of the country. However, due to climate change, sometimes it turns into a natural calamity. Several parts of the country faced natural calamities recently. Besides our innocent children lost their lives in a hospital. Our 125 crore countrymen stand shoulder to shoulder with them in this hour of crisis and grief. I assure the countrymen that in this hour of crisis we shall leave no stone unturned to ensure the wellbeing of all.\n",
    "\n",
    "My dear countrymen, this year is a special year for independent India. We commemorated 75 years of Quit India Movement last week. This year we are also commemorating the centenary of Champaran Satyagrah and the Sabarmati Ashram. The centenary of Lokmanya Tilak’s call “Swaraj is my birth right” falls this year as well. The year marks the 125th Anniversary of the Ganesh Utsav which led to the rise of community awakening through the celebrations. It inspires us to dedicate ourselves to a cause for the country. A collective resolve of the citizens was visible during 1942 to 1947 across the country which forced the British to Quit India within a span of five years. We will have to exhibit the same resolve from now on in the 70th year of independence to 2022, the 75th year of independence.'''"
   ]
  },
  {
   "cell_type": "code",
   "execution_count": 6,
   "metadata": {},
   "outputs": [],
   "source": [
    "# sperate into words\n",
    "token_trump = [word for word in word_tokenize(trump) if word not in stopwords.words('english')]\n",
    "token_obama = [word for word in word_tokenize(obama) if word not in stopwords.words('english')]\n",
    "token_modi = [word for word in word_tokenize(modi) if word not in stopwords.words('english')]"
   ]
  },
  {
   "cell_type": "code",
   "execution_count": 7,
   "metadata": {},
   "outputs": [],
   "source": [
    "# pos tagging\n",
    "trump_pos = nltk.pos_tag(token_trump)\n",
    "obama_pos = nltk.pos_tag(token_obama)\n",
    "modi_pos = nltk.pos_tag(token_modi)\n",
    "\n",
    "adjectives = []"
   ]
  },
  {
   "cell_type": "code",
   "execution_count": 8,
   "metadata": {},
   "outputs": [],
   "source": [
    "# getting adjectives\n",
    "for word, tag in trump_pos:\n",
    "    if tag == \"JJ\":\n",
    "        adjectives.append(word)\n",
    "        \n",
    "for word, tag in obama_pos:\n",
    "    if tag == \"JJ\":\n",
    "        adjectives.append(word)\n",
    "        \n",
    "for word, tag in modi_pos:\n",
    "    if tag == \"JJ\":\n",
    "        adjectives.append(word)\n",
    "\n",
    "adjectives = set(adjectives)"
   ]
  },
  {
   "cell_type": "code",
   "execution_count": 9,
   "metadata": {},
   "outputs": [
    {
     "data": {
      "text/plain": [
       "{'British',\n",
       " 'Forty-four',\n",
       " 'Several',\n",
       " 'auspicious',\n",
       " 'available',\n",
       " 'big',\n",
       " 'borne',\n",
       " 'centenary',\n",
       " 'civilian',\n",
       " 'collective',\n",
       " 'costly',\n",
       " 'criminal',\n",
       " 'cultural',\n",
       " 'dear',\n",
       " 'decisive',\n",
       " 'due',\n",
       " 'faithful',\n",
       " 'far-reaching',\n",
       " 'federal',\n",
       " 'fellow',\n",
       " 'glory',\n",
       " 'good',\n",
       " 'grateful',\n",
       " 'great',\n",
       " 'hard',\n",
       " 'high',\n",
       " 'historical',\n",
       " 'immediate',\n",
       " 'independent',\n",
       " 'innocent',\n",
       " 'last',\n",
       " 'lengthy',\n",
       " 'many',\n",
       " 'military',\n",
       " 'mindful',\n",
       " 'national',\n",
       " 'natural',\n",
       " 'necessary',\n",
       " 'new',\n",
       " 'notice',\n",
       " 'overwhelming',\n",
       " 'presidential',\n",
       " 'pride',\n",
       " 'prosperity',\n",
       " 'remained',\n",
       " 'second',\n",
       " 'severe',\n",
       " 'sic',\n",
       " 'skill',\n",
       " 'span',\n",
       " 'special',\n",
       " 'sufficient',\n",
       " 'swift',\n",
       " 'threatened',\n",
       " 'total',\n",
       " 'true',\n",
       " 'undergone',\n",
       " 'unturned',\n",
       " 'visible',\n",
       " '’'}"
      ]
     },
     "execution_count": 9,
     "metadata": {},
     "output_type": "execute_result"
    }
   ],
   "source": [
    "adjectives"
   ]
  },
  {
   "cell_type": "code",
   "execution_count": 11,
   "metadata": {},
   "outputs": [],
   "source": [
    "common_adjectives = {}"
   ]
  },
  {
   "cell_type": "code",
   "execution_count": 12,
   "metadata": {},
   "outputs": [],
   "source": [
    "# common words\n",
    "for word in adjectives:\n",
    "#     if word in token_bill and word in token_jeff and word in token_steve:\n",
    "    common_adjectives[word] = {'trump':token_trump.count(word), \n",
    "                               'obama':token_obama.count(word), \n",
    "                               'modi':token_modi.count(word)}"
   ]
  },
  {
   "cell_type": "code",
   "execution_count": 14,
   "metadata": {},
   "outputs": [
    {
     "data": {
      "text/plain": [
       "{'auspicious': {'trump': 0, 'obama': 0, 'modi': 1},\n",
       " 'second': {'trump': 1, 'obama': 0, 'modi': 0},\n",
       " 'notice': {'trump': 1, 'obama': 0, 'modi': 0},\n",
       " 'grateful': {'trump': 0, 'obama': 1, 'modi': 0},\n",
       " 'good': {'trump': 0, 'obama': 0, 'modi': 1},\n",
       " 'dear': {'trump': 0, 'obama': 0, 'modi': 2},\n",
       " 'cultural': {'trump': 0, 'obama': 0, 'modi': 1},\n",
       " 'collective': {'trump': 0, 'obama': 1, 'modi': 1},\n",
       " 'national': {'trump': 1, 'obama': 0, 'modi': 0},\n",
       " 'total': {'trump': 1, 'obama': 0, 'modi': 0},\n",
       " 'hard': {'trump': 0, 'obama': 1, 'modi': 0},\n",
       " 'unturned': {'trump': 0, 'obama': 0, 'modi': 1},\n",
       " 'available': {'trump': 1, 'obama': 0, 'modi': 0},\n",
       " 'pride': {'trump': 0, 'obama': 0, 'modi': 1},\n",
       " 'criminal': {'trump': 1, 'obama': 0, 'modi': 0},\n",
       " 'faithful': {'trump': 0, 'obama': 1, 'modi': 0},\n",
       " 'far-reaching': {'trump': 0, 'obama': 1, 'modi': 0},\n",
       " 'remained': {'trump': 0, 'obama': 1, 'modi': 0},\n",
       " 'natural': {'trump': 0, 'obama': 0, 'modi': 3},\n",
       " 'borne': {'trump': 0, 'obama': 1, 'modi': 0},\n",
       " 'military': {'trump': 3, 'obama': 0, 'modi': 0},\n",
       " 'true': {'trump': 0, 'obama': 1, 'modi': 0},\n",
       " 'Forty-four': {'trump': 0, 'obama': 1, 'modi': 0},\n",
       " 'mindful': {'trump': 0, 'obama': 1, 'modi': 0},\n",
       " 'necessary': {'trump': 1, 'obama': 0, 'modi': 0},\n",
       " 'presidential': {'trump': 1, 'obama': 1, 'modi': 0},\n",
       " 'big': {'trump': 0, 'obama': 0, 'modi': 1},\n",
       " 'visible': {'trump': 0, 'obama': 0, 'modi': 1},\n",
       " 'decisive': {'trump': 1, 'obama': 0, 'modi': 0},\n",
       " 'great': {'trump': 1, 'obama': 0, 'modi': 0},\n",
       " 'fellow': {'trump': 0, 'obama': 0, 'modi': 1},\n",
       " 'high': {'trump': 0, 'obama': 1, 'modi': 0},\n",
       " 'glory': {'trump': 0, 'obama': 0, 'modi': 1},\n",
       " 'independent': {'trump': 0, 'obama': 0, 'modi': 1},\n",
       " 'new': {'trump': 0, 'obama': 1, 'modi': 0},\n",
       " 'historical': {'trump': 0, 'obama': 0, 'modi': 1},\n",
       " 'due': {'trump': 0, 'obama': 0, 'modi': 1},\n",
       " 'centenary': {'trump': 0, 'obama': 0, 'modi': 2},\n",
       " 'prosperity': {'trump': 0, 'obama': 1, 'modi': 1},\n",
       " 'British': {'trump': 0, 'obama': 0, 'modi': 1},\n",
       " '’': {'trump': 1, 'obama': 0, 'modi': 1},\n",
       " 'last': {'trump': 1, 'obama': 0, 'modi': 1},\n",
       " 'severe': {'trump': 1, 'obama': 0, 'modi': 0},\n",
       " 'swift': {'trump': 1, 'obama': 0, 'modi': 0},\n",
       " 'lengthy': {'trump': 1, 'obama': 0, 'modi': 0},\n",
       " 'costly': {'trump': 0, 'obama': 1, 'modi': 0},\n",
       " 'federal': {'trump': 1, 'obama': 0, 'modi': 0},\n",
       " 'civilian': {'trump': 1, 'obama': 0, 'modi': 0},\n",
       " 'Several': {'trump': 0, 'obama': 0, 'modi': 1},\n",
       " 'sic': {'trump': 0, 'obama': 1, 'modi': 0},\n",
       " 'sufficient': {'trump': 1, 'obama': 0, 'modi': 0},\n",
       " 'threatened': {'trump': 1, 'obama': 0, 'modi': 0},\n",
       " 'many': {'trump': 0, 'obama': 1, 'modi': 0},\n",
       " 'skill': {'trump': 0, 'obama': 1, 'modi': 0},\n",
       " 'overwhelming': {'trump': 1, 'obama': 0, 'modi': 0},\n",
       " 'span': {'trump': 0, 'obama': 0, 'modi': 1},\n",
       " 'immediate': {'trump': 1, 'obama': 0, 'modi': 0},\n",
       " 'innocent': {'trump': 1, 'obama': 0, 'modi': 1},\n",
       " 'special': {'trump': 0, 'obama': 0, 'modi': 1},\n",
       " 'undergone': {'trump': 0, 'obama': 0, 'modi': 1}}"
      ]
     },
     "execution_count": 14,
     "metadata": {},
     "output_type": "execute_result"
    }
   ],
   "source": [
    "common_adjectives"
   ]
  }
 ],
 "metadata": {
  "kernelspec": {
   "display_name": "Python 3",
   "language": "python",
   "name": "python3"
  },
  "language_info": {
   "codemirror_mode": {
    "name": "ipython",
    "version": 3
   },
   "file_extension": ".py",
   "mimetype": "text/x-python",
   "name": "python",
   "nbconvert_exporter": "python",
   "pygments_lexer": "ipython3",
   "version": "3.7.3"
  }
 },
 "nbformat": 4,
 "nbformat_minor": 2
}

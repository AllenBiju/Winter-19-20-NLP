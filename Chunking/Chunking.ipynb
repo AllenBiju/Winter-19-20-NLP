{
 "cells": [
  {
   "cell_type": "code",
   "execution_count": 6,
   "metadata": {},
   "outputs": [],
   "source": [
    "import nltk"
   ]
  },
  {
   "cell_type": "code",
   "execution_count": 11,
   "metadata": {},
   "outputs": [],
   "source": [
    "s1=\"The town where I was born is on the east coast\"\n",
    "s2=\"the little yellow dog barked at the cat\""
   ]
  },
  {
   "cell_type": "code",
   "execution_count": 13,
   "metadata": {},
   "outputs": [],
   "source": [
    "NounGrammar = 'NP: {<DT>?<JJ>*<NN>} # NP'\n",
    "VerbGrammar = 'Ph: {<VB*>+<DT>?<NN*>+} # VB'"
   ]
  },
  {
   "cell_type": "code",
   "execution_count": 18,
   "metadata": {},
   "outputs": [
    {
     "name": "stdout",
     "output_type": "stream",
     "text": [
      "s1\n",
      "[('The', 'DT'), ('town', 'NN'), ('where', 'WRB'), ('I', 'PRP'), ('was', 'VBD'), ('born', 'VBN'), ('is', 'VBZ'), ('on', 'IN'), ('the', 'DT'), ('east', 'NN'), ('coast', 'NN')]\n",
      "s2\n",
      "[('the', 'DT'), ('little', 'JJ'), ('yellow', 'JJ'), ('dog', 'NN'), ('barked', 'VBD'), ('at', 'IN'), ('the', 'DT'), ('cat', 'NN')]\n"
     ]
    }
   ],
   "source": [
    "nounChunkParser = nltk.RegexpParser(NounGrammar)\n",
    "verbChunkParser = nltk.RegexpParser(VerbGrammar)\n",
    "tagged1 = nltk.pos_tag(nltk.word_tokenize(s1))\n",
    "tagged2 = nltk.pos_tag(nltk.word_tokenize(s2))\n",
    "\n",
    "print(\"s1\")\n",
    "print(tagged1)\n",
    "print(\"s2\")\n",
    "print(tagged2)"
   ]
  },
  {
   "cell_type": "code",
   "execution_count": 22,
   "metadata": {},
   "outputs": [
    {
     "name": "stdout",
     "output_type": "stream",
     "text": [
      "NOUN PHRASE CHUNKING\n",
      "(S\n",
      "  (NP The/DT town/NN)\n",
      "  where/WRB\n",
      "  I/PRP\n",
      "  was/VBD\n",
      "  born/VBN\n",
      "  is/VBZ\n",
      "  on/IN\n",
      "  (NP the/DT east/NN)\n",
      "  (NP coast/NN))\n",
      "(NP The/DT town/NN)\n",
      "(NP the/DT east/NN)\n",
      "(NP coast/NN)\n",
      "(S\n",
      "  (NP the/DT little/JJ yellow/JJ dog/NN)\n",
      "  barked/VBD\n",
      "  at/IN\n",
      "  (NP the/DT cat/NN))\n",
      "(NP the/DT little/JJ yellow/JJ dog/NN)\n",
      "(NP the/DT cat/NN)\n",
      "------------------------\n",
      "VERB PHRASE CHUNKING\n",
      "(S\n",
      "  The/DT\n",
      "  town/NN\n",
      "  where/WRB\n",
      "  I/PRP\n",
      "  was/VBD\n",
      "  born/VBN\n",
      "  is/VBZ\n",
      "  on/IN\n",
      "  the/DT\n",
      "  east/NN\n",
      "  coast/NN)\n",
      "(S the/DT little/JJ yellow/JJ dog/NN barked/VBD at/IN the/DT cat/NN)\n"
     ]
    }
   ],
   "source": [
    "print(\"NOUN PHRASE CHUNKING\")\n",
    "nounTree1 = nounChunkParser.parse(tagged1)\n",
    "for subtree in nounTree1.subtrees():\n",
    "    print(subtree)\n",
    "\n",
    "nounTree2 = nounChunkParser.parse(tagged2)\n",
    "for subtree in nounTree2.subtrees():\n",
    "    print(subtree)\n",
    "    \n",
    "print(\"------------------------\")\n",
    "print(\"VERB PHRASE CHUNKING\")\n",
    "verbTree1 = verbChunkParser.parse(tagged1)\n",
    "for subtree in verbTree1.subtrees():\n",
    "    print(subtree)\n",
    "\n",
    "verbTree2 = verbChunkParser.parse(tagged2)\n",
    "for subtree in verbTree2.subtrees():\n",
    "    print(subtree)"
   ]
  },
  {
   "cell_type": "code",
   "execution_count": 24,
   "metadata": {},
   "outputs": [],
   "source": [
    "nounTree1.draw()\n",
    "nounTree2.draw()\n",
    "verbTree1.draw()\n",
    "verbTree2.draw()"
   ]
  }
 ],
 "metadata": {
  "kernelspec": {
   "display_name": "Python 3",
   "language": "python",
   "name": "python3"
  },
  "language_info": {
   "codemirror_mode": {
    "name": "ipython",
    "version": 3
   },
   "file_extension": ".py",
   "mimetype": "text/x-python",
   "name": "python",
   "nbconvert_exporter": "python",
   "pygments_lexer": "ipython3",
   "version": "3.7.3"
  }
 },
 "nbformat": 4,
 "nbformat_minor": 2
}

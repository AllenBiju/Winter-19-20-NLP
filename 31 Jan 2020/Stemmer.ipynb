{
 "cells": [
  {
   "cell_type": "code",
   "execution_count": 1,
   "metadata": {},
   "outputs": [
    {
     "data": {
      "text/plain": [
       "'runn'"
      ]
     },
     "execution_count": 1,
     "metadata": {},
     "output_type": "execute_result"
    }
   ],
   "source": [
    "#Stemmers\n",
    "#Regex Stemmer\n",
    "import nltk\n",
    "from nltk.stem import RegexpStemmer\n",
    "stemmerregexp=RegexpStemmer('ing')\n",
    "stemmerregexp.stem('running')"
   ]
  },
  {
   "cell_type": "code",
   "execution_count": 2,
   "metadata": {},
   "outputs": [
    {
     "data": {
      "text/plain": [
       "'mang'"
      ]
     },
     "execution_count": 2,
     "metadata": {},
     "output_type": "execute_result"
    }
   ],
   "source": [
    "#Snowball Stemmer\n",
    "\n",
    "import nltk \n",
    "from nltk.stem import SnowballStemmer\n",
    "SnowballStemmer.languages\n",
    "frstemmer = SnowballStemmer('french')\n",
    "frstemmer.stem('manges')"
   ]
  },
  {
   "cell_type": "code",
   "execution_count": 3,
   "metadata": {},
   "outputs": [
    {
     "data": {
      "text/plain": [
       "'run'"
      ]
     },
     "execution_count": 3,
     "metadata": {},
     "output_type": "execute_result"
    }
   ],
   "source": [
    "#Lancaster Stemmer\n",
    "\n",
    "import nltk\n",
    "from nltk.stem import LancasterStemmer\n",
    "lancaster=LancasterStemmer()\n",
    "lancaster.stem('running')"
   ]
  },
  {
   "cell_type": "code",
   "execution_count": 4,
   "metadata": {},
   "outputs": [
    {
     "data": {
      "text/plain": [
       "'run'"
      ]
     },
     "execution_count": 4,
     "metadata": {},
     "output_type": "execute_result"
    }
   ],
   "source": [
    "#Porter Stemmer\n",
    "\n",
    "import nltk\n",
    "from nltk.stem import PorterStemmer\n",
    "stemmerporter = PorterStemmer()\n",
    "stemmerporter.stem('running')"
   ]
  },
  {
   "cell_type": "code",
   "execution_count": 21,
   "metadata": {},
   "outputs": [
    {
     "name": "stdout",
     "output_type": "stream",
     "text": [
      "For PorterStemmer  taker\n",
      "For Snowball  taker\n",
      "For RegexStemmer take\n",
      "For lancaster  tak\n",
      "RegexStemmer performs the best\n"
     ]
    }
   ],
   "source": [
    "#porter\n",
    "print(\"For PorterStemmer \",stemmerporter.stem('taker'))\n",
    "#SnowballStemmer\n",
    "stt = SnowballStemmer('english')\n",
    "print(\"For Snowball \",stt.stem('taker'))\n",
    "#regex removes r or s suffix\n",
    "reg = RegexpStemmer('[$r|$s]')\n",
    "print(\"For RegexStemmer\" , reg.stem('taker'))\n",
    "#lancasterStemmer\n",
    "print(\"For lancaster \",lancaster.stem('taker'))\n",
    "\n",
    "\n",
    "print(\"RegexStemmer performs the best\")"
   ]
  },
  {
   "cell_type": "code",
   "execution_count": 17,
   "metadata": {},
   "outputs": [],
   "source": [
    "#Lemmatizer\n",
    "\n",
    "from nltk.stem import WordNetLemmatizer"
   ]
  },
  {
   "cell_type": "code",
   "execution_count": 18,
   "metadata": {},
   "outputs": [
    {
     "name": "stdout",
     "output_type": "stream",
     "text": [
      "better\n"
     ]
    }
   ],
   "source": [
    "lemmatizer = WordNetLemmatizer()\n",
    "print(lemmatizer.lemmatize(\"better\",pos='v'))"
   ]
  },
  {
   "cell_type": "code",
   "execution_count": 19,
   "metadata": {},
   "outputs": [
    {
     "name": "stdout",
     "output_type": "stream",
     "text": [
      "eating\n"
     ]
    }
   ],
   "source": [
    "print(lemmatizer.lemmatize(\"eating\",pos='a'))"
   ]
  },
  {
   "cell_type": "code",
   "execution_count": 20,
   "metadata": {},
   "outputs": [
    {
     "name": "stdout",
     "output_type": "stream",
     "text": [
      "unhappy\n"
     ]
    }
   ],
   "source": [
    "print(lemmatizer.lemmatize(\"unhappy\"))"
   ]
  },
  {
   "cell_type": "code",
   "execution_count": 13,
   "metadata": {},
   "outputs": [
    {
     "name": "stdout",
     "output_type": "stream",
     "text": [
      "I had taken my dog walk after i went swim\n"
     ]
    }
   ],
   "source": [
    "#COMPARISON OF STEMMER AND LEMMATIZER\n",
    "\n",
    "#Stemmer\n",
    "from nltk.stem import PorterStemmer\n",
    "stemmer = PorterStemmer()\n",
    "example = \"I had taken my dog walking after i went swimming\"\n",
    "example = [stemmer.stem(token) for token in example.split(\" \")]\n",
    "print(\" \".join(example))"
   ]
  },
  {
   "cell_type": "code",
   "execution_count": 11,
   "metadata": {},
   "outputs": [
    {
     "name": "stdout",
     "output_type": "stream",
     "text": [
      "Am quick brown fox jump over a lazi dog\n"
     ]
    }
   ],
   "source": [
    "#Lemmatizer\n",
    "\n",
    "from nltk.stem import WordNetLemmatizer\n",
    "lemma = WordNetLemmatizer()\n",
    "example1 = \"Am quick brown fox jumps over a lazy dog\"\n",
    "example1 = [stemmer.stem(token) for token in example1.split(\" \")]\n",
    "print(\" \".join(example1))"
   ]
  },
  {
   "cell_type": "code",
   "execution_count": 22,
   "metadata": {},
   "outputs": [
    {
     "name": "stdout",
     "output_type": "stream",
     "text": [
      "['and', 'document', 'is', 'last', 'not', 'number', 'one', 'second', 'the', 'third', 'this']\n",
      "[[0 1 1 0 0 1 1 0 0 0 1]\n",
      " [0 2 1 0 0 0 0 1 1 0 1]\n",
      " [1 1 1 0 0 0 0 0 1 1 1]\n",
      " [0 1 2 1 1 0 0 0 1 0 0]]\n"
     ]
    }
   ],
   "source": [
    "#COUNT VECTORIZERS\n",
    "\n",
    "from sklearn.feature_extraction.text import CountVectorizer\n",
    "corpus = ['This is document number one.','This document is the second document.', 'And this is the third document.',\n",
    "'Is is not the last document?']\n",
    "vectorizer = CountVectorizer()\n",
    "X = vectorizer.fit_transform(corpus)\n",
    "print(vectorizer.get_feature_names())\n",
    "print(X.toarray())"
   ]
  },
  {
   "cell_type": "code",
   "execution_count": null,
   "metadata": {},
   "outputs": [],
   "source": []
  }
 ],
 "metadata": {
  "kernelspec": {
   "display_name": "Python 3",
   "language": "python",
   "name": "python3"
  },
  "language_info": {
   "codemirror_mode": {
    "name": "ipython",
    "version": 3
   },
   "file_extension": ".py",
   "mimetype": "text/x-python",
   "name": "python",
   "nbconvert_exporter": "python",
   "pygments_lexer": "ipython3",
   "version": "3.7.3"
  }
 },
 "nbformat": 4,
 "nbformat_minor": 4
}

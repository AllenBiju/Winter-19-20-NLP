{
 "cells": [
  {
   "cell_type": "code",
   "execution_count": 5,
   "metadata": {},
   "outputs": [
    {
     "name": "stdout",
     "output_type": "stream",
     "text": [
      "[('The', 'DT'), ('group', 'NN'), ('were', 'VBD'), ('able', 'JJ'), ('to', 'TO'), ('identify', 'VB'), ('the', 'DT'), ('most', 'RBS'), ('serious', 'JJ'), ('academic', 'JJ'), ('problem', 'NN')]\n",
      "[('I', 'PRP'), ('want', 'VBP'), ('to', 'TO'), ('go', 'VB'), ('now', 'RB')]\n",
      "[('What', 'WP'), ('are', 'VBP'), ('you', 'PRP'), ('doing', 'VBG'), ('there', 'RB'), ('?', '.')]\n"
     ]
    }
   ],
   "source": [
    "import nltk\n",
    "texts = []\n",
    "texts.append('The group were able to identify the most serious academic problem')\n",
    "texts.append('I want to go now')\n",
    "texts.append('What are you doing there?')\n",
    "for text in texts:\n",
    "    words = nltk.word_tokenize(text)\n",
    "    tag = nltk.pos_tag(words)\n",
    "    print(tag)"
   ]
  },
  {
   "cell_type": "code",
   "execution_count": null,
   "metadata": {},
   "outputs": [],
   "source": []
  }
 ],
 "metadata": {
  "kernelspec": {
   "display_name": "Python 3",
   "language": "python",
   "name": "python3"
  },
  "language_info": {
   "codemirror_mode": {
    "name": "ipython",
    "version": 3
   },
   "file_extension": ".py",
   "mimetype": "text/x-python",
   "name": "python",
   "nbconvert_exporter": "python",
   "pygments_lexer": "ipython3",
   "version": "3.7.3"
  }
 },
 "nbformat": 4,
 "nbformat_minor": 2
}

{
 "cells": [
  {
   "cell_type": "code",
   "execution_count": 1,
   "metadata": {},
   "outputs": [],
   "source": [
    "import spacy\n",
    "model = spacy.load(\"en_core_web_sm\")\n",
    "text = '''It began as the Computing, Tabulating & Recording Company (C-T-R) founded by Herman Hollerith in the late 1800s. Their first large contract was to provide tabulating equipment for the tabulation \n",
    "and analysis of the 1890 US census. \n",
    "The company grew quickly and, in the early 1920s the name was changed to IBM.'''"
   ]
  },
  {
   "cell_type": "code",
   "execution_count": 3,
   "metadata": {},
   "outputs": [
    {
     "name": "stdout",
     "output_type": "stream",
     "text": [
      "It -PRON- PRON PRP nsubj Xx True True\n",
      "began begin VERB VBD ROOT xxxx True False\n",
      "as as SCONJ IN prep xx True True\n",
      "the the DET DT det xxx True True\n",
      "Computing Computing PROPN NNP nmod Xxxxx True False\n",
      ", , PUNCT , punct , False False\n",
      "Tabulating Tabulating PROPN NNP conj Xxxxx True False\n",
      "& & CCONJ CC cc & False False\n",
      "Recording Recording PROPN NNP conj Xxxxx True False\n",
      "Company Company PROPN NNP pobj Xxxxx True False\n",
      "( ( PUNCT -LRB- punct ( False False\n",
      "C C PROPN NNP compound X True False\n",
      "- - PUNCT HYPH punct - False False\n",
      "T T PROPN NNP compound X True False\n",
      "- - PUNCT HYPH punct - False False\n",
      "R r NOUN NN appos X True False\n",
      ") ) PUNCT -RRB- punct ) False False\n",
      "founded found VERB VBN acl xxxx True False\n",
      "by by ADP IN agent xx True True\n",
      "Herman Herman PROPN NNP compound Xxxxx True False\n",
      "Hollerith Hollerith PROPN NNP pobj Xxxxx True False\n",
      "in in ADP IN prep xx True True\n",
      "the the DET DT det xxx True True\n",
      "late late ADJ JJ amod xxxx True False\n",
      "1800s 1800 NOUN NNS pobj ddddx False False\n",
      ". . PUNCT . punct . False False\n",
      "Their -PRON- PRON PRP$ poss Xxxxx True True\n",
      "first first ADJ JJ amod xxxx True True\n",
      "large large ADJ JJ amod xxxx True False\n",
      "contract contract NOUN NN nsubj xxxx True False\n",
      "was be AUX VBD ROOT xxx True True\n",
      "to to PART TO aux xx True True\n",
      "provide provide VERB VB xcomp xxxx True False\n",
      "tabulating tabulating NOUN NN compound xxxx True False\n",
      "equipment equipment NOUN NN dobj xxxx True False\n",
      "for for ADP IN prep xxx True True\n",
      "the the DET DT det xxx True True\n",
      "tabulation tabulation NOUN NN pobj xxxx True False\n",
      "\n",
      " \n",
      " SPACE _SP  \n",
      " False False\n",
      "and and CCONJ CC cc xxx True True\n",
      "analysis analysis NOUN NN conj xxxx True False\n",
      "of of ADP IN prep xx True True\n",
      "the the DET DT det xxx True True\n",
      "1890 1890 NUM CD nummod dddd False False\n",
      "US US PROPN NNP compound XX True True\n",
      "census census NOUN NN pobj xxxx True False\n",
      ". . PUNCT . punct . False False\n",
      "\n",
      " \n",
      " SPACE _SP  \n",
      " False False\n",
      "The the DET DT det Xxx True True\n",
      "company company NOUN NN nsubj xxxx True False\n",
      "grew grow VERB VBD ROOT xxxx True False\n",
      "quickly quickly ADV RB advmod xxxx True False\n",
      "and and CCONJ CC cc xxx True True\n",
      ", , PUNCT , punct , False False\n",
      "in in ADP IN prep xx True True\n",
      "the the DET DT det xxx True True\n",
      "early early ADJ JJ amod xxxx True False\n",
      "1920s 1920 NOUN NNS pobj ddddx False False\n",
      "the the DET DT det xxx True True\n",
      "name name NOUN NN nsubjpass xxxx True True\n",
      "was be AUX VBD auxpass xxx True True\n",
      "changed change VERB VBN conj xxxx True False\n",
      "to to ADP IN prep xx True True\n",
      "IBM IBM PROPN NNP pobj XXX True False\n",
      ". . PUNCT . punct . False False\n"
     ]
    }
   ],
   "source": [
    "# pos tagging\n",
    "\n",
    "doc = model(text)\n",
    "\n",
    "for token in doc:\n",
    "    print(token.text, token.lemma_, token.pos_, token.tag_, token.dep_,\n",
    "            token.shape_, token.is_alpha, token.is_stop)"
   ]
  },
  {
   "cell_type": "code",
   "execution_count": 4,
   "metadata": {},
   "outputs": [
    {
     "name": "stdout",
     "output_type": "stream",
     "text": [
      "the Computing, Tabulating & Recording Company 12 57 ORG\n",
      "Herman Hollerith 77 93 PERSON\n",
      "the late 1800s 97 111 DATE\n",
      "first 119 124 ORDINAL\n",
      "1890 216 220 DATE\n",
      "US 221 223 GPE\n",
      "the early 1920s 266 281 DATE\n",
      "IBM 306 309 ORG\n"
     ]
    }
   ],
   "source": [
    "# name entities\n",
    "for ent in doc.ents:\n",
    "    print(ent.text, ent.start_char, ent.end_char, ent.label_)"
   ]
  }
 ],
 "metadata": {
  "kernelspec": {
   "display_name": "Python 3",
   "language": "python",
   "name": "python3"
  },
  "language_info": {
   "codemirror_mode": {
    "name": "ipython",
    "version": 3
   },
   "file_extension": ".py",
   "mimetype": "text/x-python",
   "name": "python",
   "nbconvert_exporter": "python",
   "pygments_lexer": "ipython3",
   "version": "3.7.3"
  }
 },
 "nbformat": 4,
 "nbformat_minor": 2
}
